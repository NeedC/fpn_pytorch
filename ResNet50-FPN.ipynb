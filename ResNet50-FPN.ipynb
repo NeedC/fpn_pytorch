{
 "cells": [
  {
   "cell_type": "code",
   "execution_count": 19,
   "metadata": {},
   "outputs": [],
   "source": [
    "import torch\n",
    "import torch.nn as nn\n",
    "import torch.nn.functional as F\n",
    "import torch.utils.data as data_\n",
    "import os\n",
    "import numpy as np\n",
    "import torchvision.transforms as transforms\n",
    "import torch.optim as optim\n",
    "from PIL import Image\n",
    "from torch.autograd import Variable\n",
    "import ipdb"
   ]
  },
  {
   "cell_type": "code",
   "execution_count": 35,
   "metadata": {},
   "outputs": [],
   "source": [
    "class BottleNet(nn.Module):\n",
    "    def __init__(self, inplane, plane, stride=1, downsample=None):\n",
    "        exposion = 4\n",
    "        \n",
    "        super(BottleNet, self).__init__()\n",
    "        self.conv1 = nn.Conv2d(inplane, plane, kernel_size=1, bias=False)\n",
    "        self.bn1 = nn.BatchNorm2d(plane)\n",
    "        self.conv2 = nn.Conv2d(plane, plane, kernel_size=3, stride=stride, padding=1, bias=False)\n",
    "        self.bn2 = nn.BatchNorm2d(plane)\n",
    "        self.conv3 = nn.Conv2d(plane, exposion*plane, kernel_size=1, bias=False)\n",
    "        self.bn3 = nn.BatchNorm2d(exposion*plane)\n",
    "        self.relu = nn.ReLU(inplace=True)\n",
    "        \n",
    "        self.downsample = downsample\n",
    "        \n",
    "    def forward(self, x):\n",
    "        resduial = x\n",
    "        x = self.conv1(x)\n",
    "        x = self.bn1(x)\n",
    "        x = self.relu(x)\n",
    "        x = self.conv2(x)\n",
    "        x = self.bn2(x)\n",
    "        x = self.relu(x)\n",
    "        x = self.conv3(x)\n",
    "        x = self.bn3(x)\n",
    "        \n",
    "        \n",
    "        if self.downsample:\n",
    "            resduial = self.downsample(resduial)\n",
    "        \n",
    "        output = x + resduial\n",
    "        output = self.relu(output)\n",
    "        return output\n",
    "\n",
    "class ResNet(nn.Module):\n",
    "    def __init__(self, res=(64,128,256,512), blocks=(3,4,6,3), out_channel=256):\n",
    "        super(ResNet, self).__init__()\n",
    "        self.out_channel = out_channel\n",
    "        self.inplane = res[0]\n",
    "        self.pre_conv = nn.Sequential(nn.Conv2d(3, res[0], kernel_size=7, stride=2, padding=3, bias=False),\n",
    "                                   nn.BatchNorm2d(res[0]),\n",
    "                                   nn.ReLU(inplace=True),\n",
    "                                   nn.MaxPool2d(kernel_size=3, stride=2, padding=1))\n",
    "        self.block1 = self._make_layer(res[0], blocks[0])\n",
    "        self.block2 = self._make_layer(res[1], blocks[1],2)\n",
    "        self.block3 = self._make_layer(res[2], blocks[2],2)\n",
    "        self.block4 = self._make_layer(res[3], blocks[3],2)\n",
    "        \n",
    "        self.top = nn.Conv2d(2048, out_channel, kernel_size=1)\n",
    "        self.fpn3 = nn.Conv2d(1024, out_channel, kernel_size=1)\n",
    "        self.fpn2 = nn.Conv2d(512, out_channel, kernel_size=1)\n",
    "        self.fpn1 = nn.Conv2d(256, out_channel, kernel_size=1)\n",
    "        self.smooth = nn.Conv2d(out_channel, out_channel, kernel_size=3, stride=1, padding=1)\n",
    "        \n",
    "        self.output_layers = []\n",
    "        \n",
    "    \n",
    "        \n",
    "    def forward(self,x):\n",
    "        x = self.pre_conv(x)\n",
    "        x = self.block1(x)\n",
    "        f1 = self.fpn1(x)\n",
    "        \n",
    "        x = self.block2(x)\n",
    "        f2 = self.fpn2(x)\n",
    "        \n",
    "        x = self.block3(x)\n",
    "        f3 = self.fpn3(x)\n",
    "        \n",
    "        x = self.block4(x)\n",
    "        x = self.top(x)\n",
    "        \n",
    "        o3 = self.fpn_cont(x, f3)\n",
    "        o2 = self.fpn_cont(o3, f2)\n",
    "        o1 = self.fpn_cont(o2, f1)\n",
    "        \n",
    "        x = self.smooth(x)\n",
    "        o3 = self.smooth(o3)\n",
    "        o2 = self.smooth(o2)\n",
    "        o1 = self.smooth(o1)\n",
    "        self.output_layers += [x, o3, o2, o1]\n",
    "        \n",
    "        \n",
    "        return self.output_layers\n",
    "        \n",
    "    \n",
    "    def fpn_cont(self, up, down):\n",
    "        up = F.interpolate(up, scale_factor=2, mode='bilinear')\n",
    "        return up + down\n",
    "    \n",
    "    def _make_layer(self, plane, blocks, stride=1):\n",
    "        exposion = 4\n",
    "        layers = []\n",
    "        if stride != 1 or self.inplane != plane*exposion:\n",
    "            downsample = nn.Sequential(nn.Conv2d(self.inplane, plane*exposion, kernel_size=1, stride=stride, bias=False),\n",
    "                                       nn.BatchNorm2d(plane*exposion),\n",
    "                                      nn.ReLU(inplace=True))\n",
    "        layers.append(BottleNet(self.inplane, plane, stride, downsample))\n",
    "        self.inplane = plane*exposion\n",
    "        for i in range(blocks):\n",
    "            layers.append(BottleNet(self.inplane, plane))\n",
    "        return nn.Sequential(*layers)"
   ]
  },
  {
   "cell_type": "code",
   "execution_count": 37,
   "metadata": {},
   "outputs": [
    {
     "name": "stdout",
     "output_type": "stream",
     "text": [
      "4\n"
     ]
    }
   ],
   "source": [
    "res = ResNet()\n",
    "x = torch.rand(3,224,224).unsqueeze(0)\n",
    "output = res(x)\n",
    "print(len(output))"
   ]
  },
  {
   "cell_type": "code",
   "execution_count": 38,
   "metadata": {},
   "outputs": [
    {
     "name": "stdout",
     "output_type": "stream",
     "text": [
      "torch.Size([1, 256, 7, 7])\n",
      "torch.Size([1, 256, 14, 14])\n",
      "torch.Size([1, 256, 28, 28])\n",
      "torch.Size([1, 256, 56, 56])\n"
     ]
    }
   ],
   "source": [
    "for i in output:\n",
    "    print(i.shape)"
   ]
  },
  {
   "cell_type": "code",
   "execution_count": null,
   "metadata": {},
   "outputs": [],
   "source": []
  }
 ],
 "metadata": {
  "kernelspec": {
   "display_name": "Python 3",
   "language": "python",
   "name": "python3"
  },
  "language_info": {
   "codemirror_mode": {
    "name": "ipython",
    "version": 3
   },
   "file_extension": ".py",
   "mimetype": "text/x-python",
   "name": "python",
   "nbconvert_exporter": "python",
   "pygments_lexer": "ipython3",
   "version": "3.7.4"
  }
 },
 "nbformat": 4,
 "nbformat_minor": 2
}
